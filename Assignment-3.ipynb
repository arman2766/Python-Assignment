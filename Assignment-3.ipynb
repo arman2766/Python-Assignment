{
 "cells": [
  {
   "cell_type": "markdown",
   "metadata": {},
   "source": [
    "# ASSIGNMENT-3 ARMAN KHAN"
   ]
  },
  {
   "cell_type": "markdown",
   "metadata": {},
   "source": [
    " # 1.Write a Python function to find the Max of three numbers."
   ]
  },
  {
   "cell_type": "code",
   "execution_count": 1,
   "metadata": {},
   "outputs": [],
   "source": [
    "def findmax(num1,num2,num3):\n",
    "    if num1>num2 and num1>num3:\n",
    "        print('The max number is ',num1)\n",
    "    elif num2>num1 and num2>num3:\n",
    "        print('The max number is ',num2)\n",
    "    else:\n",
    "        print('The max number is ',num3)\n",
    "    "
   ]
  },
  {
   "cell_type": "code",
   "execution_count": 2,
   "metadata": {},
   "outputs": [
    {
     "name": "stdout",
     "output_type": "stream",
     "text": [
      "The max number is  50\n"
     ]
    }
   ],
   "source": [
    "findmax(10,50,30)"
   ]
  },
  {
   "cell_type": "markdown",
   "metadata": {},
   "source": [
    "# 2.Write a Python function to multiply all the numbers in a list"
   ]
  },
  {
   "cell_type": "code",
   "execution_count": 3,
   "metadata": {},
   "outputs": [
    {
     "name": "stdout",
     "output_type": "stream",
     "text": [
      "<function multiplynum at 0x000001693AABEC18>\n"
     ]
    }
   ],
   "source": [
    "def multiplynum(num):  \n",
    "    r= 1\n",
    "    for i in num:\n",
    "        r=r*i  \n",
    "    return r  \n",
    "print(multiplynum)"
   ]
  },
  {
   "cell_type": "code",
   "execution_count": 4,
   "metadata": {},
   "outputs": [
    {
     "data": {
      "text/plain": [
       "32"
      ]
     },
     "execution_count": 4,
     "metadata": {},
     "output_type": "execute_result"
    }
   ],
   "source": [
    "multiplynum([2,2,2,4])"
   ]
  },
  {
   "cell_type": "markdown",
   "metadata": {},
   "source": [
    "# 3.Write a Python function that accepts a string and calculate the number of upper case letters and lower case letters"
   ]
  },
  {
   "cell_type": "code",
   "execution_count": 5,
   "metadata": {},
   "outputs": [],
   "source": [
    "def findnum(string):\n",
    "    r={'u_case':0, 'l_case':0}\n",
    "    for i in string:\n",
    "    \n",
    "        if i.isupper():\n",
    "            r['u_case']+=1\n",
    "        elif i.islower():\n",
    "             r['l_case']+=1\n",
    "        else:\n",
    "            pass\n",
    "    print (\"Your entered String : \", string)\n",
    "    print('The no of UPPER CASE ',r['u_case'])\n",
    "    print('The no of lowe case ',r['l_case'])\n",
    "                \n",
    "\n",
    "            \n",
    "    \n"
   ]
  },
  {
   "cell_type": "code",
   "execution_count": 6,
   "metadata": {},
   "outputs": [
    {
     "name": "stdout",
     "output_type": "stream",
     "text": [
      "Your entered String :  ArmaAsssn\n",
      "The no of UPPER CASE  2\n",
      "The no of lowe case  7\n"
     ]
    }
   ],
   "source": [
    "findnum('ArmaAsssn')"
   ]
  },
  {
   "cell_type": "markdown",
   "metadata": {},
   "source": [
    "# 4.Python function that checks whether a passed string is palindrome or not"
   ]
  },
  {
   "cell_type": "code",
   "execution_count": 22,
   "metadata": {},
   "outputs": [
    {
     "name": "stdout",
     "output_type": "stream",
     "text": [
      "Enter any  string  radar\n",
      "yes\n"
     ]
    }
   ],
   "source": [
    "def ispalindrome(s):\n",
    "    return s==s[::-1]\n",
    "s=input('Enter any  string  ')\n",
    "ans=ispalindrome(s)\n",
    "if ans:\n",
    "    print('yes')\n",
    "else:\n",
    "    print('no')"
   ]
  },
  {
   "cell_type": "markdown",
   "metadata": {},
   "source": [
    "# 5.Write a Python program to print the even numbers from a given list"
   ]
  },
  {
   "cell_type": "code",
   "execution_count": 54,
   "metadata": {},
   "outputs": [
    {
     "name": "stdout",
     "output_type": "stream",
     "text": [
      "[10, 8, 6, 4, 2]\n"
     ]
    }
   ],
   "source": [
    "l1=[10,8,7,6,5,4,3,2,1]\n",
    "l2=[]\n",
    "for i in l1:\n",
    "    if i%2==0:\n",
    "        l2.append(i)\n",
    "print(l2)\n",
    "\n",
    "\n"
   ]
  },
  {
   "cell_type": "code",
   "execution_count": null,
   "metadata": {},
   "outputs": [],
   "source": []
  },
  {
   "cell_type": "code",
   "execution_count": null,
   "metadata": {},
   "outputs": [],
   "source": []
  }
 ],
 "metadata": {
  "kernelspec": {
   "display_name": "Python 3",
   "language": "python",
   "name": "python3"
  },
  "language_info": {
   "codemirror_mode": {
    "name": "ipython",
    "version": 3
   },
   "file_extension": ".py",
   "mimetype": "text/x-python",
   "name": "python",
   "nbconvert_exporter": "python",
   "pygments_lexer": "ipython3",
   "version": "3.7.6"
  }
 },
 "nbformat": 4,
 "nbformat_minor": 4
}
